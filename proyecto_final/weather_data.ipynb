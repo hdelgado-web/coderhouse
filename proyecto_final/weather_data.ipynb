{
 "cells": [
  {
   "cell_type": "code",
   "execution_count": 1,
   "metadata": {},
   "outputs": [
    {
     "name": "stdout",
     "output_type": "stream",
     "text": [
      "Requirement already satisfied: meteostat in c:\\users\\herna\\anaconda3\\lib\\site-packages (1.6.5)\n",
      "Requirement already satisfied: pandas>=1.1 in c:\\users\\herna\\anaconda3\\lib\\site-packages (from meteostat) (1.4.2)\n",
      "Requirement already satisfied: pytz in c:\\users\\herna\\anaconda3\\lib\\site-packages (from meteostat) (2021.3)\n",
      "Requirement already satisfied: numpy in c:\\users\\herna\\anaconda3\\lib\\site-packages (from meteostat) (1.21.5)\n",
      "Requirement already satisfied: python-dateutil>=2.8.1 in c:\\users\\herna\\anaconda3\\lib\\site-packages (from pandas>=1.1->meteostat) (2.8.2)\n",
      "Requirement already satisfied: six>=1.5 in c:\\users\\herna\\anaconda3\\lib\\site-packages (from python-dateutil>=2.8.1->pandas>=1.1->meteostat) (1.16.0)\n",
      "Note: you may need to restart the kernel to use updated packages.\n"
     ]
    }
   ],
   "source": [
    "pip install meteostat"
   ]
  },
  {
   "cell_type": "code",
   "execution_count": 2,
   "metadata": {},
   "outputs": [
    {
     "name": "stdout",
     "output_type": "stream",
     "text": [
      "Requirement already satisfied: patool in c:\\users\\herna\\anaconda3\\lib\\site-packages (1.12)\n",
      "Note: you may need to restart the kernel to use updated packages.\n"
     ]
    }
   ],
   "source": [
    "pip install patool"
   ]
  },
  {
   "cell_type": "code",
   "execution_count": 53,
   "metadata": {},
   "outputs": [],
   "source": [
    "import numpy as np\n",
    "import pandas as pd\n",
    "import matplotlib as mpl\n",
    "import matplotlib.pyplot as plt\n",
    "import seaborn as sns\n",
    "import os\n",
    "import requests\n",
    "import json\n",
    "import plotly.express as px\n",
    "from plotly.subplots import make_subplots\n",
    "from datetime import datetime\n",
    "import matplotlib.pyplot as plt\n",
    "from meteostat import Point, Daily\n",
    "import patoolib"
   ]
  },
  {
   "cell_type": "markdown",
   "metadata": {},
   "source": [
    "Probando la librería meteostat"
   ]
  },
  {
   "cell_type": "code",
   "execution_count": 54,
   "metadata": {},
   "outputs": [
    {
     "name": "stdout",
     "output_type": "stream",
     "text": [
      "            tavg  tmin  tmax  prcp  snow  wdir  wspd  wpgt    pres  tsun\n",
      "time                                                                    \n",
      "2018-01-01   1.8  -0.4   4.0   0.0   0.0   NaN   8.7   0.0  1030.7   NaN\n"
     ]
    }
   ],
   "source": [
    "# Set time period\n",
    "start = datetime(2018, 1, 1)\n",
    "end = datetime(2018, 1, 1)\n",
    "\n",
    "# Create Point for Vancouver, BC\n",
    "location = Point(49.2497, -123.1193, 70)\n",
    "\n",
    "# Get daily data for 2018\n",
    "data = Daily(location, start, end)\n",
    "data = data.fetch()\n",
    "\n",
    "print(data)"
   ]
  },
  {
   "cell_type": "code",
   "execution_count": 55,
   "metadata": {},
   "outputs": [
    {
     "name": "stdout",
     "output_type": "stream",
     "text": [
      "patool: Extracting C:\\coderhouse\\coderhouse\\gun_violence_data.rar ...\n",
      "patool: running \"C:\\Program Files\\WinRAR\\rar.EXE\" x -- C:\\coderhouse\\coderhouse\\gun_violence_data.rar\n",
      "patool:     with cwd=C:\\coderhouse\\coderhouse\\proyecto_final\n",
      "patool: ... C:\\coderhouse\\coderhouse\\gun_violence_data.rar extracted to `C:\\coderhouse\\coderhouse\\proyecto_final'.\n"
     ]
    },
    {
     "data": {
      "text/plain": [
       "'C:\\\\coderhouse\\\\coderhouse\\\\proyecto_final'"
      ]
     },
     "execution_count": 55,
     "metadata": {},
     "output_type": "execute_result"
    }
   ],
   "source": [
    "patoolib.extract_archive(\"C:\\coderhouse\\coderhouse\\gun_violence_data.rar\", outdir=\"C:\\coderhouse\\coderhouse\\proyecto_final\")"
   ]
  },
  {
   "cell_type": "code",
   "execution_count": 56,
   "metadata": {},
   "outputs": [
    {
     "name": "stderr",
     "output_type": "stream",
     "text": [
      "DtypeWarning: Columns (18,19) have mixed types. Specify dtype option on import or set low_memory=False.\n"
     ]
    }
   ],
   "source": [
    "gun_violence = pd.read_csv('C:\\coderhouse\\coderhouse\\proyecto_final\\gun_violence_data.csv')"
   ]
  },
  {
   "cell_type": "code",
   "execution_count": 57,
   "metadata": {},
   "outputs": [],
   "source": [
    "# Transformando la fecha en columnas individuales\n",
    "gun_violence['date'] = pd.to_datetime(gun_violence['date'])\n",
    "gun_violence['day'] = gun_violence['date'].dt.day\n",
    "gun_violence['month'] = gun_violence['date'].dt.month\n",
    "gun_violence['year'] = gun_violence['date'].dt.year\n",
    "gun_violence['day_of_the_week'] = gun_violence['date'].dt.dayofweek"
   ]
  },
  {
   "cell_type": "code",
   "execution_count": 58,
   "metadata": {},
   "outputs": [],
   "source": [
    "#Eliminando outliers y limitando las fechas\n",
    "\n",
    "#gun_violence=gun_violence.dropna(subset=['n_guns_involved'])\n",
    "gun_violence=gun_violence.drop(['congressional_district','state_senate_district', 'state_house_district'], axis=1)\n",
    "gun_violence = gun_violence.drop(gun_violence[gun_violence.year <= 2013].index)\n",
    "gun_violence = gun_violence.drop(gun_violence[gun_violence.year >= 2018].index)\n",
    "gun_violence = gun_violence.drop(gun_violence[gun_violence.n_guns_involved > 20].index)\n",
    "gun_violence = gun_violence.drop(gun_violence[gun_violence.n_killed >= 10].index)"
   ]
  },
  {
   "cell_type": "code",
   "execution_count": 59,
   "metadata": {},
   "outputs": [],
   "source": [
    "gun_violence['tavg'] = .0\n",
    "gun_violence['tmin'] = .0\n",
    "gun_violence['tmax'] = .0\n",
    "gun_violence['prcp'] = .0\n",
    "gun_violence['snow'] = .0\n",
    "gun_violence['wdir'] = .0\n",
    "gun_violence['wspd'] = .0\n",
    "gun_violence['wpgt'] = .0\n",
    "gun_violence['pres'] = .0\n",
    "gun_violence['tsun'] = .0"
   ]
  },
  {
   "cell_type": "code",
   "execution_count": 60,
   "metadata": {},
   "outputs": [],
   "source": [
    "gun_violence_100 = gun_violence.head(100)"
   ]
  },
  {
   "cell_type": "code",
   "execution_count": 61,
   "metadata": {},
   "outputs": [
    {
     "name": "stderr",
     "output_type": "stream",
     "text": [
      "Warning: Cannot load daily/K44N0.csv.gz from https://bulk.meteostat.net/v2/\n"
     ]
    }
   ],
   "source": [
    "for index, row in gun_violence_100.iterrows():\n",
    "    #time period\n",
    "    start = datetime(gun_violence.at[index,'year'], gun_violence.at[index,'month'], gun_violence.at[index,'day'])\n",
    "    end = datetime(gun_violence.at[index,'year'], gun_violence.at[index,'month'], gun_violence.at[index,'day'])\n",
    "    \n",
    "    #location point\n",
    "    location = Point(gun_violence.at[index,'latitude'],gun_violence.at[index,'longitude'])\n",
    "\n",
    "    # Get daily data \n",
    "    data = Daily(location, start, end)\n",
    "    data = data.fetch()\n",
    "  \n",
    "    gun_violence.at[index,'tavg'] = data.tavg.get(0)\n",
    "    gun_violence.at[index,'tmin'] = data.tmin.get(0)\n",
    "    gun_violence.at[index,'tmax'] = data.tmax.get(0)\n",
    "    gun_violence.at[index,'prcp'] = data.prcp.get(0)\n",
    "    gun_violence.at[index,'snow'] = data.snow.get(0)\n",
    "    gun_violence.at[index,'wdir'] = data.wdir.get(0)\n",
    "    gun_violence.at[index,'wspd'] = data.wspd.get(0)\n",
    "    gun_violence.at[index,'wpgt'] = data.wpgt.get(0)\n",
    "    gun_violence.at[index,'pres'] = data.pres.get(0)\n",
    "    gun_violence.at[index,'tsun'] = data.tsun.get(0)"
   ]
  },
  {
   "cell_type": "code",
   "execution_count": 62,
   "metadata": {},
   "outputs": [],
   "source": [
    "gun_violence.to_csv('gun_violence_w.csv', header=False, index=False)"
   ]
  }
 ],
 "metadata": {
  "kernelspec": {
   "display_name": "Python 3.9.12 ('base')",
   "language": "python",
   "name": "python3"
  },
  "language_info": {
   "codemirror_mode": {
    "name": "ipython",
    "version": 3
   },
   "file_extension": ".py",
   "mimetype": "text/x-python",
   "name": "python",
   "nbconvert_exporter": "python",
   "pygments_lexer": "ipython3",
   "version": "3.9.12"
  },
  "orig_nbformat": 4,
  "vscode": {
   "interpreter": {
    "hash": "2884661739ab628400b51415db727704d60c60e264c7fce14822b826b90eb452"
   }
  }
 },
 "nbformat": 4,
 "nbformat_minor": 2
}
