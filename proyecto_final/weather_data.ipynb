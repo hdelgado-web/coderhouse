{
 "cells": [
  {
   "cell_type": "code",
   "execution_count": 1,
   "metadata": {},
   "outputs": [
    {
     "name": "stdout",
     "output_type": "stream",
     "text": [
      "Collecting meteostat\n",
      "  Downloading meteostat-1.6.5-py3-none-any.whl (31 kB)\n",
      "Requirement already satisfied: pytz in c:\\users\\herna\\anaconda3\\lib\\site-packages (from meteostat) (2021.3)\n",
      "Requirement already satisfied: numpy in c:\\users\\herna\\anaconda3\\lib\\site-packages (from meteostat) (1.21.5)\n",
      "Requirement already satisfied: pandas>=1.1 in c:\\users\\herna\\anaconda3\\lib\\site-packages (from meteostat) (1.4.2)\n",
      "Requirement already satisfied: python-dateutil>=2.8.1 in c:\\users\\herna\\anaconda3\\lib\\site-packages (from pandas>=1.1->meteostat) (2.8.2)\n",
      "Requirement already satisfied: six>=1.5 in c:\\users\\herna\\anaconda3\\lib\\site-packages (from python-dateutil>=2.8.1->pandas>=1.1->meteostat) (1.16.0)\n",
      "Installing collected packages: meteostat\n",
      "Successfully installed meteostat-1.6.5\n",
      "Note: you may need to restart the kernel to use updated packages.\n"
     ]
    }
   ],
   "source": [
    "pip install meteostat\n"
   ]
  },
  {
   "cell_type": "code",
   "execution_count": 2,
   "metadata": {},
   "outputs": [],
   "source": [
    "from datetime import datetime\n",
    "import matplotlib.pyplot as plt\n",
    "from meteostat import Point, Daily"
   ]
  },
  {
   "cell_type": "code",
   "execution_count": 4,
   "metadata": {},
   "outputs": [
    {
     "name": "stdout",
     "output_type": "stream",
     "text": [
      "            tavg  tmin  tmax  prcp  snow  wdir  wspd  wpgt    pres  tsun\n",
      "time                                                                    \n",
      "2018-01-01   1.8  -0.4   4.0   0.0   0.0   NaN   8.7   0.0  1030.7   NaN\n"
     ]
    }
   ],
   "source": [
    "# Set time period\n",
    "start = datetime(2018, 1, 1)\n",
    "end = datetime(2018, 1, 1)\n",
    "\n",
    "# Create Point for Vancouver, BC\n",
    "location = Point(49.2497, -123.1193, 70)\n",
    "\n",
    "# Get daily data for 2018\n",
    "data = Daily(location, start, end)\n",
    "data = data.fetch()\n",
    "\n",
    "print(data)"
   ]
  }
 ],
 "metadata": {
  "kernelspec": {
   "display_name": "Python 3.9.12 ('base')",
   "language": "python",
   "name": "python3"
  },
  "language_info": {
   "codemirror_mode": {
    "name": "ipython",
    "version": 3
   },
   "file_extension": ".py",
   "mimetype": "text/x-python",
   "name": "python",
   "nbconvert_exporter": "python",
   "pygments_lexer": "ipython3",
   "version": "3.9.12"
  },
  "orig_nbformat": 4,
  "vscode": {
   "interpreter": {
    "hash": "2884661739ab628400b51415db727704d60c60e264c7fce14822b826b90eb452"
   }
  }
 },
 "nbformat": 4,
 "nbformat_minor": 2
}
