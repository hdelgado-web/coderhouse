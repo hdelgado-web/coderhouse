{
 "cells": [
  {
   "cell_type": "code",
   "execution_count": 2,
   "metadata": {},
   "outputs": [],
   "source": [
    "import numpy as np\n",
    "import pandas as pd\n",
    "import matplotlib as mpl\n",
    "import matplotlib.pyplot as plt\n",
    "import seaborn as sns\n",
    "import os\n",
    "import requests\n",
    "import json\n",
    "import plotly.express as px\n",
    "from plotly.subplots import make_subplots\n",
    "from datetime import datetime\n",
    "import matplotlib.pyplot as plt\n",
    "from meteostat import Point, Daily\n",
    "import patoolib"
   ]
  },
  {
   "cell_type": "code",
   "execution_count": 8,
   "metadata": {},
   "outputs": [],
   "source": [
    "def setweather():\n",
    "        #time period\n",
    "        start = datetime(2014, 1, 1)\n",
    "        end = datetime(2016, 12, 31)\n",
    "    \n",
    "        #location point\n",
    "        location = Point(42.2615, -89.0808)\n",
    "\n",
    "        # Get daily data \n",
    "        data = Daily(location, start, end)\n",
    "        data = data.fetch()\n",
    "        print(data)\n",
    "          \n",
    "    "
   ]
  },
  {
   "cell_type": "code",
   "execution_count": 9,
   "metadata": {},
   "outputs": [
    {
     "name": "stdout",
     "output_type": "stream",
     "text": [
      "            tavg  tmin  tmax  prcp   snow   wdir  wspd  wpgt    pres  tsun\n",
      "time                                                                      \n",
      "2014-01-01 -12.4 -13.8  -8.8   5.8  230.0   25.0  22.7   NaN  1026.7   NaN\n",
      "2014-01-02 -12.1 -23.8 -10.5   0.0  280.0    NaN  19.4   NaN  1027.7   NaN\n",
      "2014-01-03 -18.7 -27.7  -7.1   0.0  280.0    NaN  21.2   NaN  1025.4   NaN\n",
      "2014-01-04  -5.2  -7.1  -1.6   4.8  280.0    NaN  18.4   NaN  1012.5   NaN\n",
      "2014-01-05  -8.8 -21.6  -6.6   0.0  330.0  355.0  30.2   NaN  1020.2   NaN\n",
      "...          ...   ...   ...   ...    ...    ...   ...   ...     ...   ...\n",
      "2016-12-27  -2.9  -7.1  -1.0   0.0    0.0    NaN  16.6   NaN  1021.5   NaN\n",
      "2016-12-28  -1.7  -7.1   6.1   0.0    0.0    NaN  15.5   NaN     NaN   NaN\n",
      "2016-12-29   0.5  -1.6   1.7   0.0    0.0  278.0  28.8   NaN     NaN   NaN\n",
      "2016-12-30  -1.9  -5.5   2.8   0.0    0.0  238.0  20.2   NaN  1015.4   NaN\n",
      "2016-12-31   1.4  -5.5   4.4   0.0    0.0  268.0  14.8   NaN  1006.9   NaN\n",
      "\n",
      "[1096 rows x 10 columns]\n"
     ]
    }
   ],
   "source": [
    "setweather()"
   ]
  }
 ],
 "metadata": {
  "kernelspec": {
   "display_name": "Python 3.9.12 ('base')",
   "language": "python",
   "name": "python3"
  },
  "language_info": {
   "codemirror_mode": {
    "name": "ipython",
    "version": 3
   },
   "file_extension": ".py",
   "mimetype": "text/x-python",
   "name": "python",
   "nbconvert_exporter": "python",
   "pygments_lexer": "ipython3",
   "version": "3.9.12"
  },
  "orig_nbformat": 4,
  "vscode": {
   "interpreter": {
    "hash": "2884661739ab628400b51415db727704d60c60e264c7fce14822b826b90eb452"
   }
  }
 },
 "nbformat": 4,
 "nbformat_minor": 2
}
