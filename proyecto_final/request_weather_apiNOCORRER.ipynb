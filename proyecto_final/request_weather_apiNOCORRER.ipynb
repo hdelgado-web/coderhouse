{
 "cells": [
  {
   "cell_type": "code",
   "execution_count": 1,
   "metadata": {},
   "outputs": [],
   "source": [
    "import numpy as np\n",
    "import pandas as pd\n",
    "import matplotlib as mpl\n",
    "import matplotlib.pyplot as plt\n",
    "import seaborn as sns\n",
    "import os\n",
    "import requests\n",
    "import json\n",
    "import plotly.express as px\n",
    "from plotly.subplots import make_subplots\n",
    "from datetime import datetime\n",
    "import matplotlib.pyplot as plt\n",
    "from meteostat import Point, Daily\n",
    "import patoolib"
   ]
  },
  {
   "cell_type": "code",
   "execution_count": 2,
   "metadata": {},
   "outputs": [],
   "source": [
    "gun_violence = pd.read_csv('C:\\coderhouse\\coderhouse\\proyecto_final\\gun_violence_w.csv')"
   ]
  },
  {
   "cell_type": "code",
   "execution_count": 3,
   "metadata": {},
   "outputs": [],
   "source": [
    "def setweather():\n",
    "    i = 0\n",
    "    for index, row in gun_violence.iterrows():\n",
    "        if gun_violence.at[index,'set_weather']:continue\n",
    "        if i==100:break \n",
    "        \n",
    "\n",
    "        #time period\n",
    "        start = datetime(gun_violence.at[index,'year'], gun_violence.at[index,'month'], gun_violence.at[index,'day'])\n",
    "        end = datetime(gun_violence.at[index,'year'], gun_violence.at[index,'month'], gun_violence.at[index,'day'])\n",
    "    \n",
    "        #location point\n",
    "        location = Point(gun_violence.at[index,'latitude'],gun_violence.at[index,'longitude'])\n",
    "\n",
    "        # Get daily data \n",
    "        data = Daily(location, start, end)\n",
    "        data = data.fetch()\n",
    "  \n",
    "        gun_violence.at[index,'tavg'] = data.tavg.get(0)\n",
    "        gun_violence.at[index,'tmin'] = data.tmin.get(0)\n",
    "        gun_violence.at[index,'tmax'] = data.tmax.get(0)\n",
    "        gun_violence.at[index,'prcp'] = data.prcp.get(0)\n",
    "        gun_violence.at[index,'snow'] = data.snow.get(0)\n",
    "        gun_violence.at[index,'wdir'] = data.wdir.get(0)\n",
    "        gun_violence.at[index,'wspd'] = data.wspd.get(0)\n",
    "        gun_violence.at[index,'wpgt'] = data.wpgt.get(0)\n",
    "        gun_violence.at[index,'pres'] = data.pres.get(0)\n",
    "        gun_violence.at[index,'tsun'] = data.tsun.get(0)\n",
    "        gun_violence.at[index,'set_weather'] = True\n",
    "\n",
    "        print(index)\n",
    "        i+=1\n",
    "        \n",
    "    gun_violence.to_csv('gun_violence_w.csv', header=True, index=False)\n",
    "\n",
    "    if i==100:\n",
    "        print('Guardando..')\n",
    "        setweather()\n",
    "\n",
    "\n"
   ]
  },
  {
   "cell_type": "code",
   "execution_count": 5,
   "metadata": {},
   "outputs": [],
   "source": [
    "setweather()"
   ]
  },
  {
   "cell_type": "code",
   "execution_count": null,
   "metadata": {},
   "outputs": [],
   "source": []
  }
 ],
 "metadata": {
  "kernelspec": {
   "display_name": "Python 3.9.12 ('base')",
   "language": "python",
   "name": "python3"
  },
  "language_info": {
   "codemirror_mode": {
    "name": "ipython",
    "version": 3
   },
   "file_extension": ".py",
   "mimetype": "text/x-python",
   "name": "python",
   "nbconvert_exporter": "python",
   "pygments_lexer": "ipython3",
   "version": "3.9.12"
  },
  "orig_nbformat": 4,
  "vscode": {
   "interpreter": {
    "hash": "2884661739ab628400b51415db727704d60c60e264c7fce14822b826b90eb452"
   }
  }
 },
 "nbformat": 4,
 "nbformat_minor": 2
}
